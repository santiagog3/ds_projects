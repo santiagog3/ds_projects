{
 "cells": [
  {
   "cell_type": "code",
   "execution_count": 30,
   "id": "satisfactory-pathology",
   "metadata": {},
   "outputs": [],
   "source": [
    "import pandas as pd"
   ]
  },
  {
   "cell_type": "code",
   "execution_count": 2,
   "id": "greenhouse-yukon",
   "metadata": {},
   "outputs": [],
   "source": [
    "data = pd.read_csv('dataset_flujo_vehicular.csv')"
   ]
  },
  {
   "cell_type": "code",
   "execution_count": 13,
   "id": "seven-strength",
   "metadata": {},
   "outputs": [
    {
     "data": {
      "text/html": [
       "<div>\n",
       "<style scoped>\n",
       "    .dataframe tbody tr th:only-of-type {\n",
       "        vertical-align: middle;\n",
       "    }\n",
       "\n",
       "    .dataframe tbody tr th {\n",
       "        vertical-align: top;\n",
       "    }\n",
       "\n",
       "    .dataframe thead th {\n",
       "        text-align: right;\n",
       "    }\n",
       "</style>\n",
       "<table border=\"1\" class=\"dataframe\">\n",
       "  <thead>\n",
       "    <tr style=\"text-align: right;\">\n",
       "      <th></th>\n",
       "      <th>CODIGO_LOCACION</th>\n",
       "      <th>HORA</th>\n",
       "      <th>CANTIDAD</th>\n",
       "      <th>SENTIDO</th>\n",
       "      <th>LATITUD</th>\n",
       "      <th>LONGITUD</th>\n",
       "    </tr>\n",
       "  </thead>\n",
       "  <tbody>\n",
       "    <tr>\n",
       "      <th>0</th>\n",
       "      <td>48Q3CJ00+</td>\n",
       "      <td>31MAR2020:15:00:00</td>\n",
       "      <td>729</td>\n",
       "      <td>Interna</td>\n",
       "      <td>-34.588796</td>\n",
       "      <td>-58.381520</td>\n",
       "    </tr>\n",
       "    <tr>\n",
       "      <th>1</th>\n",
       "      <td>48Q3CJ00+</td>\n",
       "      <td>31MAR2020:15:00:00</td>\n",
       "      <td>447</td>\n",
       "      <td>Egreso</td>\n",
       "      <td>-34.588796</td>\n",
       "      <td>-58.381520</td>\n",
       "    </tr>\n",
       "    <tr>\n",
       "      <th>2</th>\n",
       "      <td>48Q39G00+</td>\n",
       "      <td>31MAR2020:15:00:00</td>\n",
       "      <td>175</td>\n",
       "      <td>Interna</td>\n",
       "      <td>-34.633299</td>\n",
       "      <td>-58.468594</td>\n",
       "    </tr>\n",
       "    <tr>\n",
       "      <th>3</th>\n",
       "      <td>48Q39G00+</td>\n",
       "      <td>31MAR2020:15:00:00</td>\n",
       "      <td>1186</td>\n",
       "      <td>Egreso</td>\n",
       "      <td>-34.633299</td>\n",
       "      <td>-58.468594</td>\n",
       "    </tr>\n",
       "    <tr>\n",
       "      <th>4</th>\n",
       "      <td>48Q3CH00+</td>\n",
       "      <td>31MAR2020:15:00:00</td>\n",
       "      <td>35</td>\n",
       "      <td>Egreso</td>\n",
       "      <td>-34.579632</td>\n",
       "      <td>-58.427733</td>\n",
       "    </tr>\n",
       "    <tr>\n",
       "      <th>5</th>\n",
       "      <td>48Q3CH00+</td>\n",
       "      <td>31MAR2020:15:00:00</td>\n",
       "      <td>523</td>\n",
       "      <td>Interna</td>\n",
       "      <td>-34.579632</td>\n",
       "      <td>-58.427733</td>\n",
       "    </tr>\n",
       "    <tr>\n",
       "      <th>6</th>\n",
       "      <td>48Q39J00+</td>\n",
       "      <td>31MAR2020:15:00:00</td>\n",
       "      <td>1670</td>\n",
       "      <td>Interna</td>\n",
       "      <td>-34.608550</td>\n",
       "      <td>-58.372951</td>\n",
       "    </tr>\n",
       "    <tr>\n",
       "      <th>7</th>\n",
       "      <td>48Q39G00+</td>\n",
       "      <td>31MAR2020:15:00:00</td>\n",
       "      <td>1235</td>\n",
       "      <td>Ingreso</td>\n",
       "      <td>-34.633299</td>\n",
       "      <td>-58.468594</td>\n",
       "    </tr>\n",
       "    <tr>\n",
       "      <th>8</th>\n",
       "      <td>48Q39G00+</td>\n",
       "      <td>31MAR2020:14:00:00</td>\n",
       "      <td>1535</td>\n",
       "      <td>Egreso</td>\n",
       "      <td>-34.633299</td>\n",
       "      <td>-58.468594</td>\n",
       "    </tr>\n",
       "    <tr>\n",
       "      <th>9</th>\n",
       "      <td>48Q3FG00+</td>\n",
       "      <td>31MAR2020:14:00:00</td>\n",
       "      <td>124</td>\n",
       "      <td>Interna</td>\n",
       "      <td>-34.536980</td>\n",
       "      <td>-58.470968</td>\n",
       "    </tr>\n",
       "    <tr>\n",
       "      <th>10</th>\n",
       "      <td>48Q3CJ00+</td>\n",
       "      <td>31MAR2020:14:00:00</td>\n",
       "      <td>577</td>\n",
       "      <td>Egreso</td>\n",
       "      <td>-34.588796</td>\n",
       "      <td>-58.381520</td>\n",
       "    </tr>\n",
       "    <tr>\n",
       "      <th>11</th>\n",
       "      <td>48Q3CJ00+</td>\n",
       "      <td>31MAR2020:14:00:00</td>\n",
       "      <td>741</td>\n",
       "      <td>Interna</td>\n",
       "      <td>-34.588796</td>\n",
       "      <td>-58.381520</td>\n",
       "    </tr>\n",
       "    <tr>\n",
       "      <th>12</th>\n",
       "      <td>48Q3CJ00+</td>\n",
       "      <td>31MAR2020:14:00:00</td>\n",
       "      <td>543</td>\n",
       "      <td>Ingreso</td>\n",
       "      <td>-34.588796</td>\n",
       "      <td>-58.381520</td>\n",
       "    </tr>\n",
       "    <tr>\n",
       "      <th>13</th>\n",
       "      <td>48Q3CH00+</td>\n",
       "      <td>31MAR2020:14:00:00</td>\n",
       "      <td>600</td>\n",
       "      <td>Interna</td>\n",
       "      <td>-34.579632</td>\n",
       "      <td>-58.427733</td>\n",
       "    </tr>\n",
       "    <tr>\n",
       "      <th>14</th>\n",
       "      <td>48Q3CH00+</td>\n",
       "      <td>31MAR2020:14:00:00</td>\n",
       "      <td>52</td>\n",
       "      <td>Egreso</td>\n",
       "      <td>-34.579632</td>\n",
       "      <td>-58.427733</td>\n",
       "    </tr>\n",
       "  </tbody>\n",
       "</table>\n",
       "</div>"
      ],
      "text/plain": [
       "   CODIGO_LOCACION                HORA  CANTIDAD  SENTIDO    LATITUD  \\\n",
       "0        48Q3CJ00+  31MAR2020:15:00:00       729  Interna -34.588796   \n",
       "1        48Q3CJ00+  31MAR2020:15:00:00       447   Egreso -34.588796   \n",
       "2        48Q39G00+  31MAR2020:15:00:00       175  Interna -34.633299   \n",
       "3        48Q39G00+  31MAR2020:15:00:00      1186   Egreso -34.633299   \n",
       "4        48Q3CH00+  31MAR2020:15:00:00        35   Egreso -34.579632   \n",
       "5        48Q3CH00+  31MAR2020:15:00:00       523  Interna -34.579632   \n",
       "6        48Q39J00+  31MAR2020:15:00:00      1670  Interna -34.608550   \n",
       "7        48Q39G00+  31MAR2020:15:00:00      1235  Ingreso -34.633299   \n",
       "8        48Q39G00+  31MAR2020:14:00:00      1535   Egreso -34.633299   \n",
       "9        48Q3FG00+  31MAR2020:14:00:00       124  Interna -34.536980   \n",
       "10       48Q3CJ00+  31MAR2020:14:00:00       577   Egreso -34.588796   \n",
       "11       48Q3CJ00+  31MAR2020:14:00:00       741  Interna -34.588796   \n",
       "12       48Q3CJ00+  31MAR2020:14:00:00       543  Ingreso -34.588796   \n",
       "13       48Q3CH00+  31MAR2020:14:00:00       600  Interna -34.579632   \n",
       "14       48Q3CH00+  31MAR2020:14:00:00        52   Egreso -34.579632   \n",
       "\n",
       "     LONGITUD  \n",
       "0  -58.381520  \n",
       "1  -58.381520  \n",
       "2  -58.468594  \n",
       "3  -58.468594  \n",
       "4  -58.427733  \n",
       "5  -58.427733  \n",
       "6  -58.372951  \n",
       "7  -58.468594  \n",
       "8  -58.468594  \n",
       "9  -58.470968  \n",
       "10 -58.381520  \n",
       "11 -58.381520  \n",
       "12 -58.381520  \n",
       "13 -58.427733  \n",
       "14 -58.427733  "
      ]
     },
     "execution_count": 13,
     "metadata": {},
     "output_type": "execute_result"
    }
   ],
   "source": [
    "data.head(15)"
   ]
  },
  {
   "cell_type": "code",
   "execution_count": 8,
   "id": "supreme-detroit",
   "metadata": {},
   "outputs": [
    {
     "data": {
      "text/plain": [
       "CODIGO_LOCACION     object\n",
       "HORA                object\n",
       "CANTIDAD             int64\n",
       "SENTIDO             object\n",
       "LATITUD            float64\n",
       "LONGITUD           float64\n",
       "dtype: object"
      ]
     },
     "execution_count": 8,
     "metadata": {},
     "output_type": "execute_result"
    }
   ],
   "source": [
    "data.dtypes"
   ]
  },
  {
   "cell_type": "code",
   "execution_count": 26,
   "id": "universal-society",
   "metadata": {},
   "outputs": [
    {
     "data": {
      "text/plain": [
       "['48Q3CJ00+',\n",
       " '48Q39G00+',\n",
       " '48Q3CH00+',\n",
       " '48Q39J00+',\n",
       " '48Q3FG00+',\n",
       " '48Q39H00+',\n",
       " '27262200+',\n",
       " '2H2M2200+']"
      ]
     },
     "execution_count": 26,
     "metadata": {},
     "output_type": "execute_result"
    }
   ],
   "source": [
    "list(data.CODIGO_LOCACION.unique())"
   ]
  },
  {
   "cell_type": "code",
   "execution_count": 19,
   "id": "complimentary-thermal",
   "metadata": {},
   "outputs": [
    {
     "data": {
      "text/plain": [
       "array(['Interna', 'Egreso', 'Ingreso'], dtype=object)"
      ]
     },
     "execution_count": 19,
     "metadata": {},
     "output_type": "execute_result"
    }
   ],
   "source": [
    "data.SENTIDO.unique()"
   ]
  },
  {
   "cell_type": "code",
   "execution_count": 14,
   "id": "indirect-novelty",
   "metadata": {},
   "outputs": [
    {
     "data": {
      "text/plain": [
       "array([-34.588796, -34.633299, -34.579632, -34.60855 , -34.53698 ,\n",
       "       -34.618036,        nan])"
      ]
     },
     "execution_count": 14,
     "metadata": {},
     "output_type": "execute_result"
    }
   ],
   "source": [
    "data.LATITUD.unique()"
   ]
  },
  {
   "cell_type": "code",
   "execution_count": 17,
   "id": "damaged-paper",
   "metadata": {},
   "outputs": [
    {
     "data": {
      "text/plain": [
       "array([-58.38152 , -58.468594, -58.427733, -58.372951, -58.470968,\n",
       "       -58.410236,        nan, -58.468594, -58.427733, -58.38152 ])"
      ]
     },
     "execution_count": 17,
     "metadata": {},
     "output_type": "execute_result"
    }
   ],
   "source": [
    "data.LONGITUD.unique()"
   ]
  },
  {
   "cell_type": "code",
   "execution_count": 91,
   "id": "english-procurement",
   "metadata": {},
   "outputs": [
    {
     "data": {
      "image/png": "[encoded data removed]",
      "text/plain": [
       "<Figure size 1440x720 with 1 Axes>"
      ]
     },
     "metadata": {
      "needs_background": "light"
     },
     "output_type": "display_data"
    }
   ],
   "source": [
    "from cartopy.io.img_tiles import Stamen\n",
    "\n",
    "\n",
    "tiler = Stamen('terrain-background')\n",
    "mercator = tiler.crs\n",
    "fig = plt.figure(figsize=(20,10))\n",
    "ax = fig.add_subplot(1, 1, 1, projection=mercator)\n",
    "ax.set_extent([-59, -57, -35, -33], crs=ccrs.PlateCarree())\n",
    "ax.add_image(tiler, 6)\n",
    "\n",
    "ax.coastlines('10m')\n",
    "\n",
    "plt.plot([-58.38152, -58.38152], [-34.588796, -34.588796],\n",
    "         color='blue', linewidth=2, marker='o',\n",
    "         transform=ccrs.Geodetic(),\n",
    "         )\n",
    "\n",
    "\n",
    "plt.show()\n"
   ]
  },
  {
   "cell_type": "code",
   "execution_count": null,
   "id": "contemporary-register",
   "metadata": {},
   "outputs": [],
   "source": []
  }
 ],
 "metadata": {
  "kernelspec": {
   "display_name": "Python 3",
   "language": "python",
   "name": "python3"
  },
  "language_info": {
   "codemirror_mode": {
    "name": "ipython",
    "version": 3
   },
   "file_extension": ".py",
   "mimetype": "text/x-python",
   "name": "python",
   "nbconvert_exporter": "python",
   "pygments_lexer": "ipython3",
   "version": "3.7.7"
  }
 },
 "nbformat": 4,
 "nbformat_minor": 5
}
