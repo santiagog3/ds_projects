{
 "cells": [
  {
   "cell_type": "code",
   "execution_count": 20,
   "id": "educated-exchange",
   "metadata": {},
   "outputs": [],
   "source": [
    "import pandas as pd\n",
    "import seaborn as sns\n",
    "import matplotlib.pyplot as plt"
   ]
  },
  {
   "cell_type": "code",
   "execution_count": 2,
   "id": "apparent-continuity",
   "metadata": {},
   "outputs": [
    {
     "name": "stderr",
     "output_type": "stream",
     "text": [
      "/home/santiago/anaconda3/envs/dhdsblend/lib/python3.7/site-packages/IPython/core/interactiveshell.py:3156: DtypeWarning: Columns (9) have mixed types.Specify dtype option on import or set low_memory=False.\n",
      "  interactivity=interactivity, compiler=compiler, result=result)\n"
     ]
    }
   ],
   "source": [
    "data = pd.read_csv('victimas_siniestros_2015-2018.csv')"
   ]
  },
  {
   "cell_type": "code",
   "execution_count": 5,
   "id": "enhanced-enforcement",
   "metadata": {},
   "outputs": [
    {
     "data": {
      "text/plain": [
       "(33234, 29)"
      ]
     },
     "execution_count": 5,
     "metadata": {},
     "output_type": "execute_result"
    }
   ],
   "source": [
    "data.shape"
   ]
  },
  {
   "cell_type": "code",
   "execution_count": 13,
   "id": "prescribed-punch",
   "metadata": {},
   "outputs": [
    {
     "data": {
      "text/plain": [
       "causa                            0.000000\n",
       "rol                              1.008004\n",
       "tipo                             3.309863\n",
       "sexo                             0.592766\n",
       "edad                             1.682012\n",
       "mes                              0.111332\n",
       "periodo                          0.000000\n",
       "fecha                            0.183547\n",
       "hora                             0.051152\n",
       "lugar_hecho                     11.181320\n",
       "direccion_normalizada            2.301860\n",
       "tipo_calle                       0.000000\n",
       "direccion_normalizada_arcgis     2.322922\n",
       "calle1                           2.301860\n",
       "altura                          78.603238\n",
       "calle2                          24.814949\n",
       "codigo_calle                    27.953301\n",
       "codigo_cruce                    37.687308\n",
       "geocodificacion                  3.294819\n",
       "semestre                         0.000000\n",
       "x                                3.294819\n",
       "y                                3.294819\n",
       "geom                             3.294819\n",
       "cantidad_victimas                0.000000\n",
       "comuna                           3.303845\n",
       "geom_3857                        3.294819\n",
       "tipo_colision1                   4.041042\n",
       "participantes_victimas           3.403141\n",
       "participantes_acusados           2.037070\n",
       "dtype: float64"
      ]
     },
     "execution_count": 13,
     "metadata": {},
     "output_type": "execute_result"
    }
   ],
   "source": [
    "null_list = data.isnull().sum()/data.shape[0]*100\n",
    "null_list"
   ]
  },
  {
   "cell_type": "code",
   "execution_count": 25,
   "id": "infectious-transcription",
   "metadata": {},
   "outputs": [
    {
     "data": {
      "text/plain": [
       "<AxesSubplot:>"
      ]
     },
     "execution_count": 25,
     "metadata": {},
     "output_type": "execute_result"
    },
    {
     "data": {
      "image/png": "[encoded data removed]",
      "text/plain": [
       "<Figure size 864x576 with 1 Axes>"
      ]
     },
     "metadata": {
      "needs_background": "light"
     },
     "output_type": "display_data"
    }
   ],
   "source": [
    "fig,ax=plt.subplots(1,figsize=(12,8))\n",
    "sns.barplot(y=data.columns, x=null_list)\n",
    "#g = g.set_xticklabels(g.get_xticklabels(), rotation=0)"
   ]
  },
  {
   "cell_type": "code",
   "execution_count": null,
   "id": "retained-panama",
   "metadata": {},
   "outputs": [],
   "source": []
  }
 ],
 "metadata": {
  "kernelspec": {
   "display_name": "Python 3",
   "language": "python",
   "name": "python3"
  },
  "language_info": {
   "codemirror_mode": {
    "name": "ipython",
    "version": 3
   },
   "file_extension": ".py",
   "mimetype": "text/x-python",
   "name": "python",
   "nbconvert_exporter": "python",
   "pygments_lexer": "ipython3",
   "version": "3.7.7"
  }
 },
 "nbformat": 4,
 "nbformat_minor": 5
}
